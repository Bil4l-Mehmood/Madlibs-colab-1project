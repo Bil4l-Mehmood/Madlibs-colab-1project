{
  "nbformat": 4,
  "nbformat_minor": 0,
  "metadata": {
    "colab": {
      "provenance": []
    },
    "kernelspec": {
      "name": "python3",
      "display_name": "Python 3"
    },
    "language_info": {
      "name": "python"
    }
  },
  "cells": [
    {
      "cell_type": "markdown",
      "source": [
        "# **Projects to be Submitted by Students :**"
      ],
      "metadata": {
        "id": "BlCJLy402dSj"
      }
    },
    {
      "cell_type": "markdown",
      "source": [
        "**Project 1: Madlibs Python Projects**"
      ],
      "metadata": {
        "id": "iA2SSvnt3bKn"
      }
    },
    {
      "cell_type": "code",
      "source": [
        "# Suppose we want to create a string that says \"subscrine to _____\"\n",
        "# youtuber = \"Mr Beast\" # some string varaible\n",
        "\n",
        "# A few ways to do this\n",
        "# print(\"subscribe to \" + youtuber)\n",
        "# print(\"subscribe to {}\". format(youtuber))\n",
        "# print(\"subscribe to {youtuber}\")\n",
        "\n",
        "\n",
        "adj = input(\"Adjective: \")\n",
        "verb1 = input(\"verb: \")\n",
        "verb2 = input(\"verb: \")\n",
        "famous_person = input(\"Famous person: \")\n",
        "\n",
        "madlib = f\"Computer programming is so {adj}! It makes me so excited all the time because I love to {verb1}. Stay hydrated and {verb2} like you are {famous_person}!\"\n",
        "\n",
        "print(madlib)"
      ],
      "metadata": {
        "colab": {
          "base_uri": "https://localhost:8080/"
        },
        "id": "l3-WHZTJYexF",
        "outputId": "643d997c-8406-45e4-ffab-61c990c59c7b"
      },
      "execution_count": 8,
      "outputs": [
        {
          "output_type": "stream",
          "name": "stdout",
          "text": [
            "Adjective: cool\n",
            "verb: super car\n",
            "verb: driving\n",
            "Famous person: Mr Beast\n",
            "Computer programming is so cool! It makes me so excited all the time because I love to super car. Stay hydrated and driving like you are Mr Beast!\n"
          ]
        }
      ]
    }
  ]
}